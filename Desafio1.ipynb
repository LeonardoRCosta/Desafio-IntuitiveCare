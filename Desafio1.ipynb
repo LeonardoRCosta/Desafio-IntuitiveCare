{
 "cells": [
  {
   "cell_type": "code",
   "execution_count": 5,
   "metadata": {},
   "outputs": [
    {
     "name": "stdout",
     "output_type": "stream",
     "text": [
      "\n"
     ]
    },
    {
     "name": "stderr",
     "output_type": "stream",
     "text": [
      "[WDM] - ====== WebDriver manager ======\n",
      "[WDM] - Current google-chrome version is 102.0.5005\n",
      "[WDM] - Get LATEST chromedriver version for 102.0.5005 google-chrome\n",
      "[WDM] - Driver [C:\\Users\\DELL\\.wdm\\drivers\\chromedriver\\win32\\102.0.5005.61\\chromedriver.exe] found in cache\n"
     ]
    }
   ],
   "source": [
    "from selenium import webdriver\n",
    "from selenium.webdriver.common.by import By\n",
    "from selenium.webdriver.chrome.service import Service\n",
    "from webdriver_manager.chrome import ChromeDriverManager\n",
    "import pyautogui\n",
    "import time\n",
    "from zipfile import ZipFile\n",
    "\n",
    "# Instalação do ChromeDriver\n",
    "servico = Service(ChromeDriverManager().install())\n",
    "options = webdriver.ChromeOptions()\n",
    "driver = webdriver.Chrome(service=servico, options=options)\n",
    "pyautogui.PAUSE = 1\n",
    "# Instalação do ChromeDriver\n",
    "\n",
    "# Baixando anexos\n",
    "driver.get(\"https://www.gov.br/ans/pt-br/arquivos/assuntos/consumidor/o-que-seu-plano-deve-cobrir/Anexo_I_Rol_2021RN_465.2021_RN473_RN478_RN480_RN513_RN536.pdf\")\n",
    "time.sleep(2)\n",
    "pyautogui.hotkey('ctrl', 's')\n",
    "pyautogui.press('enter')\n",
    "\n",
    "time.sleep(2)\n",
    "driver.get(\"https://www.gov.br/ans/pt-br/arquivos/assuntos/consumidor/o-que-seu-plano-deve-cobrir/Anexo_I_Rol_2021RN_465.2021_RN473_RN478_RN480_RN513_RN536.xlsx\")\n",
    "\n",
    "\n",
    "time.sleep(2)\n",
    "driver.get(\"https://www.gov.br/ans/pt-br/arquivos/assuntos/consumidor/o-que-seu-plano-deve-cobrir/Anexo_II_DUT_2021_RN_465.2021_tea.br_RN473_RN477_RN478_RN480_RN513_RN536.pdf\")\n",
    "time.sleep(2)\n",
    "pyautogui.hotkey('ctrl', 's')\n",
    "pyautogui.press('enter')\n",
    "\n",
    "time.sleep(2)\n",
    "driver.get(\"https://www.gov.br/ans/pt-br/arquivos/assuntos/consumidor/o-que-seu-plano-deve-cobrir/Anexo_III_DC_2021_RN_465.2021.v2.pdf\")\n",
    "time.sleep(2)\n",
    "pyautogui.hotkey('ctrl', 's')\n",
    "pyautogui.press('enter')\n",
    "\n",
    "time.sleep(2)\n",
    "driver.get(\"https://www.gov.br/ans/pt-br/arquivos/assuntos/consumidor/o-que-seu-plano-deve-cobrir/Anexo_IV_PROUT_2021_RN_465.2021.v2.pdf\")\n",
    "time.sleep(2)\n",
    "pyautogui.hotkey('ctrl', 's')\n",
    "pyautogui.press('enter')\n",
    "# Baixando anexos\n",
    "\n",
    "# Jogando os arquivos em uma pasta zipada\n",
    "with ZipFile('anexos.zip', 'w') as myzip:\n",
    "    myzip.write(\"C:\\\\Users\\\\DELL\\\\Downloads\\\\Anexo_I_Rol_2021RN_465.2021_RN473_RN478_RN480_RN513_RN536.pdf\")\n",
    "    myzip.write(\"C:\\\\Users\\\\DELL\\\\Downloads\\\\Anexo_I_Rol_2021RN_465.2021_RN473_RN478_RN480_RN513_RN536.xlsx\")\n",
    "    myzip.write(\"C:\\\\Users\\\\DELL\\\\Downloads\\\\Anexo_II_DUT_2021_RN_465.2021_tea.br_RN473_RN477_RN478_RN480_RN513_RN536.pdf\")\n",
    "    myzip.write(\"C:\\\\Users\\\\DELL\\\\Downloads\\\\Anexo_III_DC_2021_RN_465.2021.v2.pdf\")\n",
    "    myzip.write(\"C:\\\\Users\\\\DELL\\\\Downloads\\\\Anexo_IV_PROUT_2021_RN_465.2021.v2.pdf\")\n",
    "# Jogando os arquivos em uma pasta zipada"
   ]
  }
 ],
 "metadata": {
  "interpreter": {
   "hash": "fbc768028c3e6ead51d9a200ddcb2ec858ae62844dcd1994729a8279be9b48f2"
  },
  "kernelspec": {
   "display_name": "Python 3.10.4 64-bit",
   "language": "python",
   "name": "python3"
  },
  "language_info": {
   "codemirror_mode": {
    "name": "ipython",
    "version": 3
   },
   "file_extension": ".py",
   "mimetype": "text/x-python",
   "name": "python",
   "nbconvert_exporter": "python",
   "pygments_lexer": "ipython3",
   "version": "3.10.4"
  },
  "orig_nbformat": 4
 },
 "nbformat": 4,
 "nbformat_minor": 2
}
